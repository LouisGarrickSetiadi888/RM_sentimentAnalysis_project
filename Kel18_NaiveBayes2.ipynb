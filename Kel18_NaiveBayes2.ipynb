{
  "nbformat": 4,
  "nbformat_minor": 0,
  "metadata": {
    "colab": {
      "provenance": []
    },
    "kernelspec": {
      "name": "python3",
      "display_name": "Python 3"
    },
    "language_info": {
      "name": "python"
    }
  },
  "cells": [
    {
      "cell_type": "code",
      "execution_count": null,
      "metadata": {
        "id": "lgy2T4TJvq9x"
      },
      "outputs": [],
      "source": [
        "import pandas as pd\n",
        "import string\n",
        "import nltk\n",
        "import pickle\n",
        "import os\n",
        "import random\n",
        "from nltk.corpus import stopwords, wordnet\n",
        "from nltk.classify import NaiveBayesClassifier\n",
        "from nltk.probability import FreqDist\n",
        "from nltk.stem import WordNetLemmatizer, PorterStemmer\n",
        "from nltk.tokenize import word_tokenize\n",
        "from sklearn.metrics import classification_report, accuracy_score"
      ]
    },
    {
      "cell_type": "code",
      "source": [
        "nltk.download('stopwords')\n",
        "nltk.download('punkt')\n",
        "nltk.download('wordnet')\n",
        "\n",
        "ENGLISH_STOPWORDS = stopwords.words('english')\n",
        "PUNCTUATIONS = string.punctuation\n",
        "LEMMATIZER = WordNetLemmatizer()\n",
        "STEMMER = PorterStemmer()\n",
        "\n",
        "dataset = []\n",
        "comments = \"\"\n",
        "classifier = 0\n",
        "list_words = []\n",
        "labeled = []"
      ],
      "metadata": {
        "colab": {
          "base_uri": "https://localhost:8080/"
        },
        "id": "5HlhN92zv5RF",
        "outputId": "256bc0c8-fe44-4aa0-a136-cd3bc22f1b81"
      },
      "execution_count": null,
      "outputs": [
        {
          "output_type": "stream",
          "name": "stderr",
          "text": [
            "[nltk_data] Downloading package stopwords to /root/nltk_data...\n",
            "[nltk_data]   Unzipping corpora/stopwords.zip.\n",
            "[nltk_data] Downloading package punkt to /root/nltk_data...\n",
            "[nltk_data]   Unzipping tokenizers/punkt.zip.\n",
            "[nltk_data] Downloading package wordnet to /root/nltk_data...\n"
          ]
        }
      ]
    },
    {
      "cell_type": "code",
      "source": [
        "# Import Data\n",
        "\n",
        "def init():\n",
        "    data_komentar = pd.read_csv(\"comments.csv\")\n",
        "    Data = data_komentar.iloc[:, :].values\n",
        "    random.shuffle(Data)\n",
        "    print(Data)\n",
        "\n",
        "    global list_words\n",
        "    global labeled\n",
        "    for d in Data:\n",
        "        try:\n",
        "            sentences = d[0].lower()\n",
        "        except:\n",
        "            continue\n",
        "\n",
        "        words = word_tokenize(sentences)\n",
        "        words = [word for word in words if word not in ENGLISH_STOPWORDS]\n",
        "        words = [LEMMATIZER.lemmatize(word) for word in words]\n",
        "        words = [word for word in words if word not in PUNCTUATIONS]\n",
        "        words = [word for word in words if word.isalpha()]\n",
        "        for w in words:\n",
        "            list_words.append(w)\n",
        "        labeled.append((d[0], d[1]))\n",
        "\n",
        "    fd = FreqDist(list_words)\n",
        "    list_words = [word for word, count in fd.most_common(100)]\n",
        "\n",
        "init()"
      ],
      "metadata": {
        "colab": {
          "base_uri": "https://localhost:8080/"
        },
        "id": "4KPwSxCmv0kn",
        "outputId": "607b3873-adaf-4869-bea9-ce86f79941a5"
      },
      "execution_count": null,
      "outputs": [
        {
          "output_type": "stream",
          "name": "stdout",
          "text": [
            "[['Which TV Female Friend Group Do You Belong In' 1]\n",
            " ['The New \"Star Wars: The Force Awakens\" Trailer Is Here To Give You Chills'\n",
            "  1]\n",
            " ['This Vine Of New York On \"Celebrity Big Brother\" Is Fucking Perfect' 1]\n",
            " ...\n",
            " ['U.S. asks Czech Republic to grant asylum to Guantanamo Bay prisoners'\n",
            "  0]\n",
            " [\"23 Weird Things You Won't See On Display In A Science Museum\" 1]\n",
            " ['Things Salvadoran-Americans Are Tired Of Hearing' 1]]\n"
          ]
        }
      ]
    },
    {
      "cell_type": "code",
      "source": [
        "# Data Training and Testing\n",
        "\n",
        "def training():\n",
        "    global dataset\n",
        "    global labeled\n",
        "    for sentence, label in labeled:\n",
        "        words = word_tokenize(sentence)\n",
        "        words = [word for word in words if word not in ENGLISH_STOPWORDS]\n",
        "        words = [LEMMATIZER.lemmatize(word) for word in words]\n",
        "        words = [word for word in words if word not in PUNCTUATIONS]\n",
        "        words = [word for word in words if word.isalpha()]\n",
        "\n",
        "        try:\n",
        "            label_int = int(label)\n",
        "            if label_int == 0:\n",
        "                newlabel = \"negative\"\n",
        "            elif label_int == 1:\n",
        "                newlabel = \"positive\"\n",
        "            else:\n",
        "                continue\n",
        "\n",
        "            features = {}\n",
        "            for feature in list_words:\n",
        "                key = feature\n",
        "                value = feature in words\n",
        "                features[key] = value\n",
        "            dataset.append((features, newlabel))\n",
        "        except ValueError:\n",
        "            pass\n",
        "\n",
        "    percentage = int(len(dataset) * 0.9)\n",
        "    training_data = dataset[:percentage]\n",
        "    testing_data = dataset[percentage:]\n",
        "\n",
        "    global classifier\n",
        "    classifier = NaiveBayesClassifier.train(training_data)\n",
        "\n",
        "    print(\"  \", end = \"\")\n",
        "    classifier.show_most_informative_features(5)\n",
        "    print(\"MODEL TRAINING ACCURACY: \" + str(accuracy_score([label for features, label in testing_data],\n",
        "     [classifier.classify(features) for features, label in testing_data]) * 100) + \" %\")\n",
        "\n",
        "    # Evaluation\n",
        "    y_true = [label for features, label in testing_data]\n",
        "    y_pred = [classifier.classify(features) for features, label in testing_data]\n",
        "\n",
        "    print(\"\\nClassification Report:\\n\")\n",
        "    print(classification_report(y_true, y_pred, target_names=[\"negative\", \"positive\"]))\n",
        "\n",
        "    file = open(\"model.pickle\", \"wb\")\n",
        "    pickle.dump(classifier, file)\n",
        "    file.close()\n",
        "\n",
        "training()"
      ],
      "metadata": {
        "colab": {
          "base_uri": "https://localhost:8080/"
        },
        "id": "9I4JtDFwwIiW",
        "outputId": "7ce96f29-9b5b-4c94-e5ed-e334966400e2"
      },
      "execution_count": null,
      "outputs": [
        {
          "output_type": "stream",
          "name": "stdout",
          "text": [
            "  Most Informative Features\n",
            "                    sign = True           negati : positi =    113.7 : 1.0\n",
            "                   based = True           negati : positi =     16.2 : 1.0\n",
            "                     new = False          positi : negati =      1.0 : 1.0\n",
            "                     say = False          positi : negati =      1.0 : 1.0\n",
            "                   first = False          positi : negati =      1.0 : 1.0\n",
            "MODEL TRAINING ACCURACY: 60.390625 %\n",
            "\n",
            "Classification Report:\n",
            "\n",
            "              precision    recall  f1-score   support\n",
            "\n",
            "    negative       1.00      0.11      0.20      2859\n",
            "    positive       0.58      1.00      0.74      3541\n",
            "\n",
            "    accuracy                           0.60      6400\n",
            "   macro avg       0.79      0.56      0.47      6400\n",
            "weighted avg       0.77      0.60      0.50      6400\n",
            "\n"
          ]
        }
      ]
    },
    {
      "cell_type": "code",
      "source": [
        "# Grafik perbandingan\n",
        "\n",
        "import matplotlib.pyplot as plt\n",
        "\n",
        "accuracy_svm = 0.85\n",
        "accuracy_nb = 0.60\n",
        "\n",
        "labels = ['SVM', 'Naive Bayes']\n",
        "accuracies = [accuracy_svm, accuracy_nb]\n",
        "\n",
        "plt.figure(figsize=(10, 6))\n",
        "plt.bar(labels, accuracies, color=['blue', 'orange'])\n",
        "plt.ylim(0, 1)\n",
        "plt.ylabel('Accuracy')\n",
        "plt.title('Comparison of Model Accuracies')\n",
        "\n",
        "for i, v in enumerate(accuracies):\n",
        "    plt.text(i, v + 0.02, f\"{v:.2f}\", ha='center', va='bottom')\n",
        "\n",
        "plt.show()"
      ],
      "metadata": {
        "colab": {
          "base_uri": "https://localhost:8080/",
          "height": 545
        },
        "id": "YppJFe0A4eOf",
        "outputId": "d746564a-ac32-443f-82b0-a27df0ee8831"
      },
      "execution_count": null,
      "outputs": [
        {
          "output_type": "display_data",
          "data": {
            "text/plain": [
              "<Figure size 1000x600 with 1 Axes>"
            ],
            "image/png": "[encoded data removed]"
          },
          "metadata": {}
        }
      ]
    }
  ]
}